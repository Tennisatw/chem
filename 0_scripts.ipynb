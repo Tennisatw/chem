{
 "cells": [
  {
   "cell_type": "code",
   "execution_count": 2,
   "metadata": {},
   "outputs": [],
   "source": [
    "# 本地预览 - Start the server and preview your site\n",
    "import webbrowser\n",
    "import subprocess\n",
    "import psutil\n",
    "import time\n",
    "\n",
    "\n",
    "def kill_process_on_port(port):\n",
    "    for proc in psutil.process_iter(['pid', 'name', 'connections']):\n",
    "        try:\n",
    "            for conn in proc.info['connections']:\n",
    "                if conn.laddr.port == port:\n",
    "                    proc.kill()\n",
    "        except (psutil.NoSuchProcess, psutil.AccessDenied):\n",
    "            continue\n",
    "\n",
    "process = subprocess.Popen('mkdocs serve -a localhost:4000', shell=True)\n",
    "webbrowser.open('http://localhost:4000', new=1)\n",
    "\n",
    "try:\n",
    "    while True:\n",
    "        time.sleep(3)\n",
    "except KeyboardInterrupt:\n",
    "    kill_process_on_port(4000)\n"
   ]
  },
  {
   "cell_type": "code",
   "execution_count": 3,
   "metadata": {},
   "outputs": [
    {
     "name": "stderr",
     "output_type": "stream",
     "text": [
      "INFO    -  Cleaning site directory\n",
      "INFO    -  Building documentation to directory: d:\\work\\Program\\chem\\site\n",
      "INFO    -  Documentation built in 0.19 seconds\n",
      "warning: in the working copy of '0_scripts.ipynb', LF will be replaced by CRLF the next time Git touches it\n",
      "warning: in the working copy of 'readthedocs_modify/css/theme.css', LF will be replaced by CRLF the next time Git touches it\n",
      "warning: in the working copy of 'site/1_基础化学_Basic_Chemistry/1.1_化学简介_Introduction_to_Chemistry/1.1.1/index.html', LF will be replaced by CRLF the next time Git touches it\n",
      "warning: in the working copy of 'site/1_基础化学_Basic_Chemistry/1.1_化学简介_Introduction_to_Chemistry/1.1.2/index.html', LF will be replaced by CRLF the next time Git touches it\n",
      "warning: in the working copy of 'site/1_基础化学_Basic_Chemistry/1.1_化学简介_Introduction_to_Chemistry/1.1.3/index.html', LF will be replaced by CRLF the next time Git touches it\n",
      "warning: in the working copy of 'site/1_基础化学_Basic_Chemistry/1.2_原子_Atoms/1.2.1/index.html', LF will be replaced by CRLF the next time Git touches it\n",
      "warning: in the working copy of 'site/1_基础化学_Basic_Chemistry/1.2_原子_Atoms/1.2.2/index.html', LF will be replaced by CRLF the next time Git touches it\n",
      "warning: in the working copy of 'site/1_基础化学_Basic_Chemistry/1.2_原子_Atoms/1.2.3/index.html', LF will be replaced by CRLF the next time Git touches it\n",
      "warning: in the working copy of 'site/404.html', LF will be replaced by CRLF the next time Git touches it\n",
      "warning: in the working copy of 'site/css/fonts/fontawesome-webfont.svg', LF will be replaced by CRLF the next time Git touches it\n",
      "warning: in the working copy of 'site/css/theme.css', LF will be replaced by CRLF the next time Git touches it\n",
      "warning: in the working copy of 'site/css/theme_extra.css', LF will be replaced by CRLF the next time Git touches it\n",
      "warning: in the working copy of 'site/index.html', LF will be replaced by CRLF the next time Git touches it\n",
      "warning: in the working copy of 'site/js/html5shiv.min.js', LF will be replaced by CRLF the next time Git touches it\n",
      "warning: in the working copy of 'site/js/jquery-3.6.0.min.js', LF will be replaced by CRLF the next time Git touches it\n",
      "warning: in the working copy of 'site/js/theme.js', LF will be replaced by CRLF the next time Git touches it\n",
      "warning: in the working copy of 'site/js/theme_extra.js', LF will be replaced by CRLF the next time Git touches it\n",
      "warning: in the working copy of 'site/preface/index.html', LF will be replaced by CRLF the next time Git touches it\n",
      "warning: in the working copy of 'site/search.html', LF will be replaced by CRLF the next time Git touches it\n",
      "warning: in the working copy of 'site/search/lunr.js', LF will be replaced by CRLF the next time Git touches it\n",
      "warning: in the working copy of 'site/search/main.js', LF will be replaced by CRLF the next time Git touches it\n",
      "warning: in the working copy of 'site/search/worker.js', LF will be replaced by CRLF the next time Git touches it\n",
      "warning: in the working copy of 'site/sitemap.xml', LF will be replaced by CRLF the next time Git touches it\n",
      "warning: in the working copy of 'site/1_基础化学_Basic_Chemistry/1.2_原子_Atoms/1.2.4/index.html', LF will be replaced by CRLF the next time Git touches it\n",
      "warning: in the working copy of 'site/1_基础化学_Basic_Chemistry/1.2_原子_Atoms/1.2.5/index.html', LF will be replaced by CRLF the next time Git touches it\n",
      "warning: in the working copy of 'site/1_基础化学_Basic_Chemistry/1.2_原子_Atoms/1.2.6/index.html', LF will be replaced by CRLF the next time Git touches it\n",
      "warning: in the working copy of 'site/1_基础化学_Basic_Chemistry/1.2_原子_Atoms/1.2.7/index.html', LF will be replaced by CRLF the next time Git touches it\n",
      "warning: in the working copy of 'site/1_基础化学_Basic_Chemistry/1.2_原子_Atoms/1.2.8/index.html', LF will be replaced by CRLF the next time Git touches it\n"
     ]
    },
    {
     "name": "stdout",
     "output_type": "stream",
     "text": [
      "[main 95dc8d0] Update 2024/08/27 21:23:11\n",
      " 51 files changed, 1840 insertions(+), 139 deletions(-)\n",
      " create mode 100644 \"docs/1_\\345\\237\\272\\347\\241\\200\\345\\214\\226\\345\\255\\246_Basic_Chemistry/1.2_\\345\\216\\237\\345\\255\\220_Atoms/1.2.4.md\"\n",
      " create mode 100644 \"docs/1_\\345\\237\\272\\347\\241\\200\\345\\214\\226\\345\\255\\246_Basic_Chemistry/1.2_\\345\\216\\237\\345\\255\\220_Atoms/1.2.5.md\"\n",
      " create mode 100644 \"docs/1_\\345\\237\\272\\347\\241\\200\\345\\214\\226\\345\\255\\246_Basic_Chemistry/1.2_\\345\\216\\237\\345\\255\\220_Atoms/1.2.6.md\"\n",
      " create mode 100644 \"docs/1_\\345\\237\\272\\347\\241\\200\\345\\214\\226\\345\\255\\246_Basic_Chemistry/1.2_\\345\\216\\237\\345\\255\\220_Atoms/1.2.7.md\"\n",
      " create mode 100644 \"docs/1_\\345\\237\\272\\347\\241\\200\\345\\214\\226\\345\\255\\246_Basic_Chemistry/1.2_\\345\\216\\237\\345\\255\\220_Atoms/1.2.8.md\"\n",
      " create mode 100644 docs/img/1.1.3-1.jpg\n",
      " create mode 100644 docs/img/1.2.4-1.png\n",
      " create mode 100644 docs/img/1.2.5-1.png\n",
      " create mode 100644 docs/img/1.2.5-2.png\n",
      " create mode 100644 docs/img/1.2.7-1.png\n",
      " create mode 100644 docs/img/1.2.7-2.png\n",
      " create mode 100644 docs/img/1.2.7-3.png\n",
      " create mode 100644 docs/img/1.2.7-4.png\n",
      " create mode 100644 docs/img/1.2.8-1.png\n",
      " create mode 100644 docs/img/1.2.8-2.png\n",
      " create mode 100644 docs/img/1.2.8-3.png\n",
      " create mode 100644 \"site/1_\\345\\237\\272\\347\\241\\200\\345\\214\\226\\345\\255\\246_Basic_Chemistry/1.2_\\345\\216\\237\\345\\255\\220_Atoms/1.2.4/index.html\"\n",
      " create mode 100644 \"site/1_\\345\\237\\272\\347\\241\\200\\345\\214\\226\\345\\255\\246_Basic_Chemistry/1.2_\\345\\216\\237\\345\\255\\220_Atoms/1.2.5/index.html\"\n",
      " create mode 100644 \"site/1_\\345\\237\\272\\347\\241\\200\\345\\214\\226\\345\\255\\246_Basic_Chemistry/1.2_\\345\\216\\237\\345\\255\\220_Atoms/1.2.6/index.html\"\n",
      " create mode 100644 \"site/1_\\345\\237\\272\\347\\241\\200\\345\\214\\226\\345\\255\\246_Basic_Chemistry/1.2_\\345\\216\\237\\345\\255\\220_Atoms/1.2.7/index.html\"\n",
      " create mode 100644 \"site/1_\\345\\237\\272\\347\\241\\200\\345\\214\\226\\345\\255\\246_Basic_Chemistry/1.2_\\345\\216\\237\\345\\255\\220_Atoms/1.2.8/index.html\"\n",
      " create mode 100644 site/img/1.1.3-1.jpg\n",
      " create mode 100644 site/img/1.2.4-1.png\n",
      " create mode 100644 site/img/1.2.5-1.png\n",
      " create mode 100644 site/img/1.2.5-2.png\n",
      " create mode 100644 site/img/1.2.7-1.png\n",
      " create mode 100644 site/img/1.2.7-2.png\n",
      " create mode 100644 site/img/1.2.7-3.png\n",
      " create mode 100644 site/img/1.2.7-4.png\n",
      " create mode 100644 site/img/1.2.8-1.png\n",
      " create mode 100644 site/img/1.2.8-2.png\n",
      " create mode 100644 site/img/1.2.8-3.png\n"
     ]
    },
    {
     "name": "stderr",
     "output_type": "stream",
     "text": [
      "To https://github.com/Tennisatw/chem.git\n",
      "   b004c71..95dc8d0  main -> main\n"
     ]
    }
   ],
   "source": [
    "# 生成-部署 - Generate and deploy\n",
    "\n",
    "from datetime import datetime\n",
    "\n",
    "now = datetime.now().strftime(\"%Y/%m/%d %H:%M:%S\")\n",
    "current_time = \"Update \" + now\n",
    "\n",
    "! mkdocs build\n",
    "\n",
    "! git add .\n",
    "! git commit -m \"$current_time\"\n",
    "! git push"
   ]
  }
 ],
 "metadata": {
  "kernelspec": {
   "display_name": "chem",
   "language": "python",
   "name": "python3"
  },
  "language_info": {
   "codemirror_mode": {
    "name": "ipython",
    "version": 3
   },
   "file_extension": ".py",
   "mimetype": "text/x-python",
   "name": "python",
   "nbconvert_exporter": "python",
   "pygments_lexer": "ipython3",
   "version": "3.12.5"
  }
 },
 "nbformat": 4,
 "nbformat_minor": 2
}
